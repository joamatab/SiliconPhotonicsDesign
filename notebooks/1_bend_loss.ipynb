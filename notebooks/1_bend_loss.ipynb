{
 "cells": [
  {
   "cell_type": "markdown",
   "metadata": {},
   "source": [
    "# Bend loss \n",
    "\n",
    "We calculate the bend loss with Mode calculations using Lumerical Mode Solutions\n",
    "\n",
    "## Silicon 500x220 1550 nm"
   ]
  },
  {
   "cell_type": "code",
   "execution_count": null,
   "metadata": {
    "attributes": {
     "classes": [],
     "id": "",
     "n": "1"
    }
   },
   "outputs": [],
   "source": [
    "import matplotlib.pyplot as plt\n",
    "import pylum\n",
    "from pylum.waveguide_bend import waveguide_bend, plot_waveguide_bend_loss\n",
    "import numpy as np"
   ]
  },
  {
   "cell_type": "code",
   "execution_count": null,
   "metadata": {
    "attributes": {
     "classes": [],
     "id": "",
     "n": "14"
    }
   },
   "outputs": [],
   "source": [
    "d1550 = waveguide_bend(radius=np.array([3, 5, 10])*1e-6, material_wg='si', wg_width=500e-9, wg_height=220e-9, wavelength=1550e-9)"
   ]
  },
  {
   "cell_type": "code",
   "execution_count": null,
   "metadata": {
    "attributes": {
     "classes": [],
     "id": "",
     "n": "15"
    }
   },
   "outputs": [],
   "source": [
    "plot_waveguide_bend_loss(d1550)"
   ]
  },
  {
   "cell_type": "code",
   "execution_count": null,
   "metadata": {
    "attributes": {
     "classes": [],
     "id": "",
     "n": "16"
    }
   },
   "outputs": [],
   "source": [
    "d1550"
   ]
  },
  {
   "cell_type": "markdown",
   "metadata": {},
   "source": [
    "## Cache\n",
    "\n",
    "Functions run with `cache=True` by default, so next time you run\n",
    "the function with the same values you get the result from the cache without having to run the simulation.\n",
    "\n",
    "If you are modifying the code inside the script, you can use\n",
    "`cache=False` to ignore the cache and run the simulation again"
   ]
  },
  {
   "cell_type": "code",
   "execution_count": null,
   "metadata": {
    "attributes": {
     "classes": [],
     "id": "",
     "n": "2"
    }
   },
   "outputs": [],
   "source": [
    "dcache = waveguide_bend(radius=np.array([3, 5, 10])*1e-6, material_wg='si', wg_width=500e-9, wg_height=220e-9, wavelength=1550e-9)"
   ]
  },
  {
   "cell_type": "code",
   "execution_count": null,
   "metadata": {
    "attributes": {
     "classes": [],
     "id": "",
     "n": "3"
    }
   },
   "outputs": [],
   "source": [
    "dcache"
   ]
  },
  {
   "cell_type": "markdown",
   "metadata": {},
   "source": [
    "## Silicon 500x220 1310 nm\n",
    "\n",
    "You can also change the wavelength"
   ]
  },
  {
   "cell_type": "code",
   "execution_count": null,
   "metadata": {
    "attributes": {
     "classes": [],
     "id": "",
     "n": "18"
    }
   },
   "outputs": [],
   "source": [
    "d1310 = waveguide_bend(radius=np.array([3, 5, 10])*1e-6, material_wg='si', wg_width=500e-9, wg_height=220e-9, wavelength=1310e-9)"
   ]
  },
  {
   "cell_type": "code",
   "execution_count": null,
   "metadata": {
    "attributes": {
     "classes": [],
     "id": "",
     "n": "13"
    }
   },
   "outputs": [],
   "source": [
    "plot_waveguide_bend_loss(d1310)"
   ]
  },
  {
   "cell_type": "markdown",
   "metadata": {},
   "source": [
    "## Compare 1550 and 1310nm bends\n",
    "\n",
    "Shorter wavelengths (1310) require larger bend radius and have larger loss than\n",
    "longer wavelengths (1550)"
   ]
  },
  {
   "cell_type": "code",
   "execution_count": null,
   "metadata": {
    "attributes": {
     "classes": [],
     "id": "",
     "n": "20"
    }
   },
   "outputs": [],
   "source": [
    "plt.plot(np.array(d1550['radius'])*1e6, abs(d1550['loss_mode']), 'o-', label='1550')\n",
    "plt.plot(np.array(d1310['radius'])*1e6, abs(d1310['loss_mode']), 'o-', label='1310')\n",
    "plt.xlabel('bend radius (um)')\n",
    "plt.ylabel('loss (dB)')\n",
    "plt.legend()"
   ]
  }
 ],
 "metadata": {
  "kernelspec": {
   "display_name": "Python 3",
   "language": "python",
   "name": "python3"
  },
  "language_info": {
   "codemirror_mode": {
    "name": "ipython",
    "version": 3
   },
   "file_extension": ".py",
   "mimetype": "text/x-python",
   "name": "python",
   "nbconvert_exporter": "python",
   "pygments_lexer": "ipython3",
   "version": "3.7.6"
  }
 },
 "nbformat": 4,
 "nbformat_minor": 4
}
