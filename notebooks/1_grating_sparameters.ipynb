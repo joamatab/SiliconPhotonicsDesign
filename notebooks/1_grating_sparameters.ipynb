{
 "cells": [
  {
   "cell_type": "markdown",
   "metadata": {
    "attributes": {
     "classes": [],
     "id": "",
     "n": "4"
    }
   },
   "source": [
    "# Grating coupler Sparameters\n",
    "\n",
    "You can specify any grating coupler geomery and simulation parameters for a 2D FDTD Lumerical simulation.\n",
    "\n",
    "There is 2 ways to define a grating coupler:\n",
    "\n",
    "- Define period, fill_factor and n_gratings\n",
    "- Define a list of (gap, width) for the grating teeth\n",
    "\n",
    "In this notebook we will calculate the Sparameters for different grating couplers"
   ]
  },
  {
   "cell_type": "code",
   "execution_count": null,
   "metadata": {},
   "outputs": [],
   "source": [
    "import pathlib\n",
    "import numpy as np\n",
    "import matplotlib.pyplot as plt\n",
    "\n",
    "import pylum\n",
    "from pylum.gc import write_sparameters, load_sparameters, plot"
   ]
  },
  {
   "cell_type": "code",
   "execution_count": null,
   "metadata": {},
   "outputs": [],
   "source": [
    "sp_path = write_sparameters()"
   ]
  },
  {
   "cell_type": "code",
   "execution_count": null,
   "metadata": {},
   "outputs": [],
   "source": [
    "print(sp_path)"
   ]
  },
  {
   "cell_type": "code",
   "execution_count": null,
   "metadata": {},
   "outputs": [],
   "source": [
    "sp_dict = load_sparameters(sp_path)"
   ]
  },
  {
   "cell_type": "code",
   "execution_count": null,
   "metadata": {},
   "outputs": [],
   "source": [
    "plot(sp_dict)"
   ]
  },
  {
   "cell_type": "code",
   "execution_count": null,
   "metadata": {},
   "outputs": [],
   "source": [
    "S12 = sp_dict['S12m']\n",
    "wmax = sp_dict['wavelength_nm'][np.argmax(S12)]\n",
    "print(f'max transmission = {10*np.log10(max(S12)):.2f} dB')\n",
    "print(f'max transmission = {wmax:.2f} nm')"
   ]
  },
  {
   "cell_type": "markdown",
   "metadata": {},
   "source": [
    "Lets change the grating period from 660nm to 700nm and see what is the max transmission"
   ]
  },
  {
   "cell_type": "code",
   "execution_count": null,
   "metadata": {},
   "outputs": [],
   "source": [
    "write_sparameters?"
   ]
  },
  {
   "cell_type": "code",
   "execution_count": null,
   "metadata": {},
   "outputs": [],
   "source": [
    "sp_path = write_sparameters(period=700e-9)"
   ]
  },
  {
   "cell_type": "code",
   "execution_count": null,
   "metadata": {},
   "outputs": [],
   "source": [
    "sp_dict = load_sparameters(sp_path)\n",
    "plot(sp_dict)"
   ]
  },
  {
   "cell_type": "code",
   "execution_count": null,
   "metadata": {},
   "outputs": [],
   "source": [
    "S12 = sp_dict['S12m']\n",
    "wmax = sp_dict['wavelength_nm'][np.argmax(S12)]\n",
    "print(f'max transmission = {10*np.log10(max(S12)):.2f} dB')\n",
    "print(f'max transmission = {wmax:.2f} nm')"
   ]
  }
 ],
 "metadata": {
  "kernelspec": {
   "display_name": "Python 3",
   "language": "python",
   "name": "python3"
  },
  "language_info": {
   "codemirror_mode": {
    "name": "ipython",
    "version": 3
   },
   "file_extension": ".py",
   "mimetype": "text/x-python",
   "name": "python",
   "nbconvert_exporter": "python",
   "pygments_lexer": "ipython3",
   "version": "3.7.6"
  }
 },
 "nbformat": 4,
 "nbformat_minor": 4
}
